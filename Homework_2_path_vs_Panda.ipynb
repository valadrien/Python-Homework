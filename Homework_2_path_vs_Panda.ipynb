{
 "cells": [
  {
   "cell_type": "code",
   "execution_count": 3,
   "id": "d1d6f2b7-2ded-4518-a729-0be44e940d43",
   "metadata": {},
   "outputs": [],
   "source": [
    "'''Your task is to create a Python script that analyzes the records to calculate each of the following:\n",
    "The total number of months included in the dataset\n",
    "The total net amount of \"Profit/Losses\" over the entire period\n",
    "The average change in \"Profit/Losses\" between months over the entire period\n",
    "The greatest increase in profits (date and amount) over the entire period\n",
    "The greatest decrease in losses (date and amount) over the entire period\n",
    "As an example, your analysis should look similar to the one below: ",
    "\n",
    "Financial Analysis\n",
    "----------------------------\n",
    "Total Months: 86\n",
    "Total: $38382578\n",
    "Average  Change: $-2315.12\n",
    "Greatest Increase in Profits: Feb-2012 ($1926159)\n",
    "Greatest Decrease in Profits: Sep-2013 ($-2196167)\n",
    "In addition, your final script should both print the analysis to the terminal and export a text file with the results.\n",
    "'''\n",
    "\n",
    "\n",
    "#import modules\n",
    "import os\n",
    "import csv\n",
    "\n",
    "#set path for file\n",
    "budget_data_csv = os.path.join(\"C:\\\\Users\\\\joannegibson\\\\Desktop\\\\Resources\\\\budget_data.csv\")\n",
    "\n",
    "#set the output of the text file\n",
    "text_path = \"output.txt\"\n",
    "\n",
    "#Set variables\n",
    "total_months = 0\n",
    "total_revenue = 0\n",
    "revenue = []\n",
    "previous_revenue = 0\n",
    "month_of_change = []\n",
    "revenue_change = 0\n",
    "greatest_decrease = [\"\", 9999999]\n",
    "greatest_increase = [\"\", 0]\n",
    "revenue_change_list = []\n",
    "revenue_average = 0\n",
    "\n",
    "\n",
    "#open the csv file\n",
    "with open('budget_data.csv') as csvfile:  \n",
    "    csvreader = csv.DictReader(csvfile)\n",
    "\n",
    "    #Loop through to find total months\n",
    "    for row in csvreader:\n",
    "\n",
    "        #Count the total of months\n",
    "        total_months += 1\n",
    "\n",
    "        #Calculate the total revenue over the entire period\n",
    "        total_revenue = total_revenue + int(row[\"Profit/Losses\"])\n",
    "\n",
    "        #Calculate the average change in revenue between months over the entire period\n",
    "        revenue_change = float(row[\"Profit/Losses\"])- previous_revenue\n",
    "        previous_revenue = float(row[\"Profit/Losses\"])\n",
    "        revenue_change_list = revenue_change_list + [revenue_change]\n",
    "        month_of_change = [month_of_change] + [row[\"Date\"]]\n",
    "       \n",
    "\n",
    "        #The greatest increase in revenue (date and amount) over the entire period\n",
    "        if revenue_change>greatest_increase[1]:\n",
    "            greatest_increase[1]= revenue_change\n",
    "            greatest_increase[0] = row['Date']\n",
    "\n",
    "        #The greatest decrease in revenue (date and amount) over the entire period\n",
    "        if revenue_change<greatest_decrease[1]:\n",
    "            greatest_decrease[1]= revenue_change\n",
    "            greatest_decrease[0] = row['Date']\n",
    "    revenue_average = sum(revenue_change_list)/len(revenue_change_list)\n",
    "\n",
    "#write changes to csv\n",
    "with open(text_path, 'w') as file:\n",
    "    file.write(\"Financial Analysis\\n\")\n",
    "    file.write(\"---------------------\\n\")\n",
    "    file.write(\"Total Months: %d\\n\" % total_months)\n",
    "    file.write(\"Total Revenue: $%d\\n\" % total_revenue)\n",
    "    file.write(\"Average Revenue Change $%d\\n\" % revenue_average)\n",
    "    file.write(\"Greatest Increase in Revenue: %s ($%s)\\n\" % (greatest_increase[0], greatest_increase[1]))\n",
    "    file.write(\"Greatest Decrease in Revenue: %s ($%s)\\n\" % (greatest_decrease[0], greatest_decrease[1]))"
   ]
  },
  {
   "cell_type": "code",
   "execution_count": 9,
   "id": "f665b213-b53a-4d70-b781-d5a7e33baada",
   "metadata": {
    "tags": []
   },
   "outputs": [
    {
     "name": "stdout",
     "output_type": "stream",
     "text": [
      "Financial Analysis\n",
      "------------------------------------------------------------\n",
      "The total number of months in report are: 86 months\n",
      "Total Net P&L: $38382578\n",
      "The average change rate is: $7803\n",
      "Greatest Increase in Revenue: Feb-2012 ($1926159.0)\n",
      "\n",
      "Greatest Decrease in Revenue: Sep-2013 ($-2196167.0)\n",
      "\n"
     ]
    }
   ],
   "source": [
    "# Test Print \n",
    "\n",
    "print(\"Financial Analysis\")\n",
    "print(\"------------------------------------------------------------\")\n",
    "print(f\"The total number of months in report are: {total_months} months\")\n",
    "print(f\"Total Net P&L: ${total_revenue}\")\n",
    "print(f\"The average change rate is: ${round(revenue_average)}\")\n",
    "print(\"Greatest Increase in Revenue: %s ($%s)\\n\" % (greatest_increase[0], greatest_increase[1]))\n",
    "print(\"Greatest Decrease in Revenue: %s ($%s)\\n\" % (greatest_decrease[0], greatest_decrease[1]))"
   ]
  },
  {
   "cell_type": "code",
   "execution_count": null,
   "id": "2840d4a9-603c-408e-af1c-2f4017fde84e",
   "metadata": {},
   "outputs": [],
   "source": []
  }
 ],
 "metadata": {
  "kernelspec": {
   "display_name": "Python 3",
   "language": "python",
   "name": "python3"
  },
  "language_info": {
   "codemirror_mode": {
    "name": "ipython",
    "version": 3
   },
   "file_extension": ".py",
   "mimetype": "text/x-python",
   "name": "python",
   "nbconvert_exporter": "python",
   "pygments_lexer": "ipython3",
   "version": "3.8.8"
  }
 },
 "nbformat": 4,
 "nbformat_minor": 5
}
